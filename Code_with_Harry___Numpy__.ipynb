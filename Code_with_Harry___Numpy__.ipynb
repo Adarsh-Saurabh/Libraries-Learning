{
  "nbformat": 4,
  "nbformat_minor": 0,
  "metadata": {
    "colab": {
      "name": "Code with Harry __Numpy__.ipynb",
      "provenance": [],
      "collapsed_sections": [],
      "authorship_tag": "ABX9TyN4siWDH/NSgEZefR4FPizH",
      "include_colab_link": true
    },
    "kernelspec": {
      "name": "python3",
      "display_name": "Python 3"
    },
    "language_info": {
      "name": "python"
    }
  },
  "cells": [
    {
      "cell_type": "markdown",
      "metadata": {
        "id": "view-in-github",
        "colab_type": "text"
      },
      "source": [
        "<a href=\"https://colab.research.google.com/github/Adarsh-Saurabh/Libraries-Learning/blob/Python-Libraries/Code_with_Harry___Numpy__.ipynb\" target=\"_parent\"><img src=\"https://colab.research.google.com/assets/colab-badge.svg\" alt=\"Open In Colab\"/></a>"
      ]
    },
    {
      "cell_type": "markdown",
      "metadata": {
        "id": "UCfUXJd6lYE-"
      },
      "source": [
        "**Installing Numpy**\n"
      ]
    },
    {
      "cell_type": "code",
      "metadata": {
        "id": "XwAY3MK6nwL5",
        "colab": {
          "base_uri": "https://localhost:8080/"
        },
        "outputId": "785bb3e0-5f02-47d9-97b5-85a3d35c22b0"
      },
      "source": [
        "!pip install numpy "
      ],
      "execution_count": 266,
      "outputs": [
        {
          "output_type": "stream",
          "text": [
            "Requirement already satisfied: numpy in /usr/local/lib/python3.7/dist-packages (1.19.5)\n"
          ],
          "name": "stdout"
        }
      ]
    },
    {
      "cell_type": "code",
      "metadata": {
        "id": "ApxSPiL6lfOw"
      },
      "source": [
        "import numpy as np"
      ],
      "execution_count": 267,
      "outputs": []
    },
    {
      "cell_type": "code",
      "metadata": {
        "id": "-iXqo2MAlfKN"
      },
      "source": [
        "arr = np.array([3,6,32,7])"
      ],
      "execution_count": 268,
      "outputs": []
    },
    {
      "cell_type": "code",
      "metadata": {
        "colab": {
          "base_uri": "https://localhost:8080/"
        },
        "id": "BUmeQxb3lfEY",
        "outputId": "0e8eac40-647b-491b-b31a-0af7a21434e2"
      },
      "source": [
        "arr"
      ],
      "execution_count": 269,
      "outputs": [
        {
          "output_type": "execute_result",
          "data": {
            "text/plain": [
              "array([ 3,  6, 32,  7])"
            ]
          },
          "metadata": {
            "tags": []
          },
          "execution_count": 269
        }
      ]
    },
    {
      "cell_type": "code",
      "metadata": {
        "id": "dyNJmDlble_Q"
      },
      "source": [
        "arr = np.array([[3,6,32,7] ],       np.int32)    #This is a one dimensional array"
      ],
      "execution_count": 270,
      "outputs": []
    },
    {
      "cell_type": "code",
      "metadata": {
        "colab": {
          "base_uri": "https://localhost:8080/"
        },
        "id": "VZiW3rhhle4c",
        "outputId": "c835a49a-447e-4c96-cc18-6ebc2d3f9324"
      },
      "source": [
        "arr"
      ],
      "execution_count": 271,
      "outputs": [
        {
          "output_type": "execute_result",
          "data": {
            "text/plain": [
              "array([[ 3,  6, 32,  7]], dtype=int32)"
            ]
          },
          "metadata": {
            "tags": []
          },
          "execution_count": 271
        }
      ]
    },
    {
      "cell_type": "code",
      "metadata": {
        "colab": {
          "base_uri": "https://localhost:8080/"
        },
        "id": "K0yFR0Wvle0_",
        "outputId": "f7936e80-51ef-4ffd-b498-2f5256355345"
      },
      "source": [
        "arr[0,2]  #0th row and 3rd column"
      ],
      "execution_count": 272,
      "outputs": [
        {
          "output_type": "execute_result",
          "data": {
            "text/plain": [
              "32"
            ]
          },
          "metadata": {
            "tags": []
          },
          "execution_count": 272
        }
      ]
    },
    {
      "cell_type": "code",
      "metadata": {
        "id": "ii80aYavn6W0"
      },
      "source": [
        "arr[0, 2] = 23       #changing the value of 3rd column to 23 from 32"
      ],
      "execution_count": 273,
      "outputs": []
    },
    {
      "cell_type": "code",
      "metadata": {
        "colab": {
          "base_uri": "https://localhost:8080/"
        },
        "id": "bbj3MrdFoAW3",
        "outputId": "7cfe91e1-cff9-4de2-d1e2-89821b907e61"
      },
      "source": [
        "arr"
      ],
      "execution_count": 274,
      "outputs": [
        {
          "output_type": "execute_result",
          "data": {
            "text/plain": [
              "array([[ 3,  6, 23,  7]], dtype=int32)"
            ]
          },
          "metadata": {
            "tags": []
          },
          "execution_count": 274
        }
      ]
    },
    {
      "cell_type": "code",
      "metadata": {
        "colab": {
          "base_uri": "https://localhost:8080/"
        },
        "id": "HY2qlsrAlea3",
        "outputId": "c9fdf6d4-25ec-4d2f-9970-e315e69d0852"
      },
      "source": [
        "arr.shape\n"
      ],
      "execution_count": 275,
      "outputs": [
        {
          "output_type": "execute_result",
          "data": {
            "text/plain": [
              "(1, 4)"
            ]
          },
          "metadata": {
            "tags": []
          },
          "execution_count": 275
        }
      ]
    },
    {
      "cell_type": "code",
      "metadata": {
        "colab": {
          "base_uri": "https://localhost:8080/"
        },
        "id": "Tsq7CChEngrd",
        "outputId": "260292a4-ee51-45a8-e2a2-48a5aecb8f42"
      },
      "source": [
        "arr.dtype"
      ],
      "execution_count": 276,
      "outputs": [
        {
          "output_type": "execute_result",
          "data": {
            "text/plain": [
              "dtype('int32')"
            ]
          },
          "metadata": {
            "tags": []
          },
          "execution_count": 276
        }
      ]
    },
    {
      "cell_type": "markdown",
      "metadata": {
        "id": "J_nQUdbaoOWX"
      },
      "source": [
        "#Array Creation:- Conversion from other Python structures"
      ]
    },
    {
      "cell_type": "code",
      "metadata": {
        "id": "1WKKR4zZoNNw"
      },
      "source": [
        "listarray = np.array([[1,2,3 ], [ 4,5,6 ], [5,5,8 ]] , np.int8)    #Making a 3 dimensional array"
      ],
      "execution_count": 277,
      "outputs": []
    },
    {
      "cell_type": "code",
      "metadata": {
        "colab": {
          "base_uri": "https://localhost:8080/"
        },
        "id": "Idzx8gcvoNJg",
        "outputId": "cf53d51f-c147-47d4-8a3d-6416573299ef"
      },
      "source": [
        "listarray.shape      #it is a 3 * 3 matrix"
      ],
      "execution_count": 278,
      "outputs": [
        {
          "output_type": "execute_result",
          "data": {
            "text/plain": [
              "(3, 3)"
            ]
          },
          "metadata": {
            "tags": []
          },
          "execution_count": 278
        }
      ]
    },
    {
      "cell_type": "code",
      "metadata": {
        "colab": {
          "base_uri": "https://localhost:8080/"
        },
        "id": "BCQuHID0oNFK",
        "outputId": "2c37b826-6f03-47c2-c61e-804b3e319307"
      },
      "source": [
        "listarray.size      #total no of elements in the list"
      ],
      "execution_count": 279,
      "outputs": [
        {
          "output_type": "execute_result",
          "data": {
            "text/plain": [
              "9"
            ]
          },
          "metadata": {
            "tags": []
          },
          "execution_count": 279
        }
      ]
    },
    {
      "cell_type": "markdown",
      "metadata": {
        "id": "itGfnK2EqdPB"
      },
      "source": [
        "*Making an array as a object*"
      ]
    },
    {
      "cell_type": "code",
      "metadata": {
        "colab": {
          "base_uri": "https://localhost:8080/"
        },
        "id": "dy0HZ71zoNBa",
        "outputId": "05e02926-a325-42a1-bea4-89ab9a559558"
      },
      "source": [
        "np.array({43,32,32 , 54 , 54})"
      ],
      "execution_count": 280,
      "outputs": [
        {
          "output_type": "execute_result",
          "data": {
            "text/plain": [
              "array({32, 43, 54}, dtype=object)"
            ]
          },
          "metadata": {
            "tags": []
          },
          "execution_count": 280
        }
      ]
    },
    {
      "cell_type": "markdown",
      "metadata": {
        "id": "AEZXXs4iqVTV"
      },
      "source": [
        "*Making an null array of 2,5* "
      ]
    },
    {
      "cell_type": "code",
      "metadata": {
        "id": "d6zuiodxoM80"
      },
      "source": [
        "x = np.zeros((2,5))"
      ],
      "execution_count": 281,
      "outputs": []
    },
    {
      "cell_type": "code",
      "metadata": {
        "colab": {
          "base_uri": "https://localhost:8080/"
        },
        "id": "5q9UbumyoM4p",
        "outputId": "398f08cd-2fc3-4ba1-d399-c9f79333805d"
      },
      "source": [
        "x"
      ],
      "execution_count": 282,
      "outputs": [
        {
          "output_type": "execute_result",
          "data": {
            "text/plain": [
              "array([[0., 0., 0., 0., 0.],\n",
              "       [0., 0., 0., 0., 0.]])"
            ]
          },
          "metadata": {
            "tags": []
          },
          "execution_count": 282
        }
      ]
    },
    {
      "cell_type": "markdown",
      "metadata": {
        "id": "c8PgZo6wqn36"
      },
      "source": [
        "New array"
      ]
    },
    {
      "cell_type": "code",
      "metadata": {
        "id": "XMC2KPj9qlwW"
      },
      "source": [
        "xy = np.arange(0,15)       #Making an array on no from 0 till 15 using 'arange'"
      ],
      "execution_count": 283,
      "outputs": []
    },
    {
      "cell_type": "code",
      "metadata": {
        "colab": {
          "base_uri": "https://localhost:8080/"
        },
        "id": "xg0eGrmfqnRS",
        "outputId": "6bac6b73-6f0b-4e61-b596-869c4de397d2"
      },
      "source": [
        "xy"
      ],
      "execution_count": 284,
      "outputs": [
        {
          "output_type": "execute_result",
          "data": {
            "text/plain": [
              "array([ 0,  1,  2,  3,  4,  5,  6,  7,  8,  9, 10, 11, 12, 13, 14])"
            ]
          },
          "metadata": {
            "tags": []
          },
          "execution_count": 284
        }
      ]
    },
    {
      "cell_type": "markdown",
      "metadata": {
        "id": "U6tlMBcErOTo"
      },
      "source": [
        "*Making an equal spaced array"
      ]
    },
    {
      "cell_type": "code",
      "metadata": {
        "id": "bY5-jGg0qnMi"
      },
      "source": [
        "equalspace = np.linspace(1,5,12)    #in range 1 to 6 print 12 equal spaced no"
      ],
      "execution_count": 285,
      "outputs": []
    },
    {
      "cell_type": "code",
      "metadata": {
        "colab": {
          "base_uri": "https://localhost:8080/"
        },
        "id": "ht9VAMntqnI9",
        "outputId": "a2295524-cc10-4b35-9fcd-ab1fd5a4b733"
      },
      "source": [
        "equalspace\n"
      ],
      "execution_count": 286,
      "outputs": [
        {
          "output_type": "execute_result",
          "data": {
            "text/plain": [
              "array([1.        , 1.36363636, 1.72727273, 2.09090909, 2.45454545,\n",
              "       2.81818182, 3.18181818, 3.54545455, 3.90909091, 4.27272727,\n",
              "       4.63636364, 5.        ])"
            ]
          },
          "metadata": {
            "tags": []
          },
          "execution_count": 286
        }
      ]
    },
    {
      "cell_type": "code",
      "metadata": {
        "id": "U1H2CZlhqnFM"
      },
      "source": [
        "equalspace2 = np.linspace(0,50,3)      #printing 3 equal spaced integers from 0 to 50"
      ],
      "execution_count": 287,
      "outputs": []
    },
    {
      "cell_type": "code",
      "metadata": {
        "colab": {
          "base_uri": "https://localhost:8080/"
        },
        "id": "UbYZyuEXqnBm",
        "outputId": "b13f266c-55b9-44fc-caab-cd71a98c7e1f"
      },
      "source": [
        "equalspace2"
      ],
      "execution_count": 288,
      "outputs": [
        {
          "output_type": "execute_result",
          "data": {
            "text/plain": [
              "array([ 0., 25., 50.])"
            ]
          },
          "metadata": {
            "tags": []
          },
          "execution_count": 288
        }
      ]
    },
    {
      "cell_type": "markdown",
      "metadata": {
        "id": "gY9M1lGPsu8h"
      },
      "source": [
        "*Making an array of random values*"
      ]
    },
    {
      "cell_type": "code",
      "metadata": {
        "id": "Bwkauuhsqm-C"
      },
      "source": [
        "emp = np.empty((4,4))"
      ],
      "execution_count": 289,
      "outputs": []
    },
    {
      "cell_type": "code",
      "metadata": {
        "colab": {
          "base_uri": "https://localhost:8080/"
        },
        "id": "KBjlWHrYqm6T",
        "outputId": "73d427bd-e340-49ab-e764-eacd32672597"
      },
      "source": [
        "emp"
      ],
      "execution_count": 290,
      "outputs": [
        {
          "output_type": "execute_result",
          "data": {
            "text/plain": [
              "array([[1., 0., 0., 0.],\n",
              "       [0., 1., 0., 0.],\n",
              "       [0., 0., 1., 0.],\n",
              "       [0., 0., 0., 1.]])"
            ]
          },
          "metadata": {
            "tags": []
          },
          "execution_count": 290
        }
      ]
    },
    {
      "cell_type": "code",
      "metadata": {
        "id": "6V3Kb-xAqm04"
      },
      "source": [
        "emp_like = np.empty_like(equalspace)"
      ],
      "execution_count": 291,
      "outputs": []
    },
    {
      "cell_type": "code",
      "metadata": {
        "colab": {
          "base_uri": "https://localhost:8080/"
        },
        "id": "7EObClJ4qmuD",
        "outputId": "04683b6d-d7ca-4e44-acb3-05a699df1176"
      },
      "source": [
        "emp_like"
      ],
      "execution_count": 292,
      "outputs": [
        {
          "output_type": "execute_result",
          "data": {
            "text/plain": [
              "array([1.        , 1.36363636, 1.72727273, 2.09090909, 2.45454545,\n",
              "       2.81818182, 3.18181818, 3.54545455, 3.90909091, 4.27272727,\n",
              "       4.63636364, 5.        ])"
            ]
          },
          "metadata": {
            "tags": []
          },
          "execution_count": 292
        }
      ]
    },
    {
      "cell_type": "markdown",
      "metadata": {
        "id": "IiAHYsm8xKyf"
      },
      "source": [
        "*Making an Identity Matrix *"
      ]
    },
    {
      "cell_type": "code",
      "metadata": {
        "id": "y0sUqToBqmmk"
      },
      "source": [
        "ide = np.identity(4)"
      ],
      "execution_count": 293,
      "outputs": []
    },
    {
      "cell_type": "code",
      "metadata": {
        "colab": {
          "base_uri": "https://localhost:8080/"
        },
        "id": "BfUzDkTqqmg3",
        "outputId": "4245e245-148b-4d15-fa08-1750f4004445"
      },
      "source": [
        "ide"
      ],
      "execution_count": 294,
      "outputs": [
        {
          "output_type": "execute_result",
          "data": {
            "text/plain": [
              "array([[1., 0., 0., 0.],\n",
              "       [0., 1., 0., 0.],\n",
              "       [0., 0., 1., 0.],\n",
              "       [0., 0., 0., 1.]])"
            ]
          },
          "metadata": {
            "tags": []
          },
          "execution_count": 294
        }
      ]
    },
    {
      "cell_type": "markdown",
      "metadata": {
        "id": "JXqMR8qXx5oo"
      },
      "source": [
        "*Using reshape*"
      ]
    },
    {
      "cell_type": "code",
      "metadata": {
        "id": "0vhFa5nCqmU2"
      },
      "source": [
        "a = np.arange(99)"
      ],
      "execution_count": 295,
      "outputs": []
    },
    {
      "cell_type": "code",
      "metadata": {
        "colab": {
          "base_uri": "https://localhost:8080/"
        },
        "id": "QQ5wTBvtxj7P",
        "outputId": "35d67b15-181d-47d0-fae8-422c383f386c"
      },
      "source": [
        "a"
      ],
      "execution_count": 296,
      "outputs": [
        {
          "output_type": "execute_result",
          "data": {
            "text/plain": [
              "array([ 0,  1,  2,  3,  4,  5,  6,  7,  8,  9, 10, 11, 12, 13, 14, 15, 16,\n",
              "       17, 18, 19, 20, 21, 22, 23, 24, 25, 26, 27, 28, 29, 30, 31, 32, 33,\n",
              "       34, 35, 36, 37, 38, 39, 40, 41, 42, 43, 44, 45, 46, 47, 48, 49, 50,\n",
              "       51, 52, 53, 54, 55, 56, 57, 58, 59, 60, 61, 62, 63, 64, 65, 66, 67,\n",
              "       68, 69, 70, 71, 72, 73, 74, 75, 76, 77, 78, 79, 80, 81, 82, 83, 84,\n",
              "       85, 86, 87, 88, 89, 90, 91, 92, 93, 94, 95, 96, 97, 98])"
            ]
          },
          "metadata": {
            "tags": []
          },
          "execution_count": 296
        }
      ]
    },
    {
      "cell_type": "code",
      "metadata": {
        "colab": {
          "base_uri": "https://localhost:8080/"
        },
        "id": "udUNtA9nxj2-",
        "outputId": "bd4a3fe7-1ce8-41b6-9b26-f2b32e14618b"
      },
      "source": [
        "a.reshape(9,11)"
      ],
      "execution_count": 297,
      "outputs": [
        {
          "output_type": "execute_result",
          "data": {
            "text/plain": [
              "array([[ 0,  1,  2,  3,  4,  5,  6,  7,  8,  9, 10],\n",
              "       [11, 12, 13, 14, 15, 16, 17, 18, 19, 20, 21],\n",
              "       [22, 23, 24, 25, 26, 27, 28, 29, 30, 31, 32],\n",
              "       [33, 34, 35, 36, 37, 38, 39, 40, 41, 42, 43],\n",
              "       [44, 45, 46, 47, 48, 49, 50, 51, 52, 53, 54],\n",
              "       [55, 56, 57, 58, 59, 60, 61, 62, 63, 64, 65],\n",
              "       [66, 67, 68, 69, 70, 71, 72, 73, 74, 75, 76],\n",
              "       [77, 78, 79, 80, 81, 82, 83, 84, 85, 86, 87],\n",
              "       [88, 89, 90, 91, 92, 93, 94, 95, 96, 97, 98]])"
            ]
          },
          "metadata": {
            "tags": []
          },
          "execution_count": 297
        }
      ]
    },
    {
      "cell_type": "code",
      "metadata": {
        "id": "iYp6OqmvxjzJ"
      },
      "source": [
        "a = a.reshape(3,33)"
      ],
      "execution_count": 298,
      "outputs": []
    },
    {
      "cell_type": "code",
      "metadata": {
        "colab": {
          "base_uri": "https://localhost:8080/"
        },
        "id": "VDt2fPaCyL6m",
        "outputId": "6138ccb9-a1f7-4efa-d5f5-480d87108bb5"
      },
      "source": [
        "a"
      ],
      "execution_count": 299,
      "outputs": [
        {
          "output_type": "execute_result",
          "data": {
            "text/plain": [
              "array([[ 0,  1,  2,  3,  4,  5,  6,  7,  8,  9, 10, 11, 12, 13, 14, 15,\n",
              "        16, 17, 18, 19, 20, 21, 22, 23, 24, 25, 26, 27, 28, 29, 30, 31,\n",
              "        32],\n",
              "       [33, 34, 35, 36, 37, 38, 39, 40, 41, 42, 43, 44, 45, 46, 47, 48,\n",
              "        49, 50, 51, 52, 53, 54, 55, 56, 57, 58, 59, 60, 61, 62, 63, 64,\n",
              "        65],\n",
              "       [66, 67, 68, 69, 70, 71, 72, 73, 74, 75, 76, 77, 78, 79, 80, 81,\n",
              "        82, 83, 84, 85, 86, 87, 88, 89, 90, 91, 92, 93, 94, 95, 96, 97,\n",
              "        98]])"
            ]
          },
          "metadata": {
            "tags": []
          },
          "execution_count": 299
        }
      ]
    },
    {
      "cell_type": "code",
      "metadata": {
        "colab": {
          "base_uri": "https://localhost:8080/"
        },
        "id": "89HwQXdhxjvS",
        "outputId": "af78d84f-d3d9-4491-daa6-d72061bd35ca"
      },
      "source": [
        "a.shape\n"
      ],
      "execution_count": 300,
      "outputs": [
        {
          "output_type": "execute_result",
          "data": {
            "text/plain": [
              "(3, 33)"
            ]
          },
          "metadata": {
            "tags": []
          },
          "execution_count": 300
        }
      ]
    },
    {
      "cell_type": "code",
      "metadata": {
        "id": "quNe7hQ1xjq6"
      },
      "source": [
        "a = a.ravel()  #converting to one dimensional array "
      ],
      "execution_count": 301,
      "outputs": []
    },
    {
      "cell_type": "code",
      "metadata": {
        "colab": {
          "base_uri": "https://localhost:8080/"
        },
        "id": "LuNjkWsuxjmj",
        "outputId": "7dd167ec-6fa7-42b2-ebf6-c9eff2de6c69"
      },
      "source": [
        "a"
      ],
      "execution_count": 302,
      "outputs": [
        {
          "output_type": "execute_result",
          "data": {
            "text/plain": [
              "array([ 0,  1,  2,  3,  4,  5,  6,  7,  8,  9, 10, 11, 12, 13, 14, 15, 16,\n",
              "       17, 18, 19, 20, 21, 22, 23, 24, 25, 26, 27, 28, 29, 30, 31, 32, 33,\n",
              "       34, 35, 36, 37, 38, 39, 40, 41, 42, 43, 44, 45, 46, 47, 48, 49, 50,\n",
              "       51, 52, 53, 54, 55, 56, 57, 58, 59, 60, 61, 62, 63, 64, 65, 66, 67,\n",
              "       68, 69, 70, 71, 72, 73, 74, 75, 76, 77, 78, 79, 80, 81, 82, 83, 84,\n",
              "       85, 86, 87, 88, 89, 90, 91, 92, 93, 94, 95, 96, 97, 98])"
            ]
          },
          "metadata": {
            "tags": []
          },
          "execution_count": 302
        }
      ]
    },
    {
      "cell_type": "code",
      "metadata": {
        "colab": {
          "base_uri": "https://localhost:8080/"
        },
        "id": "Ta_bsPQpxjiS",
        "outputId": "17e69128-5bf7-4035-8ff4-37b3c007cdb1"
      },
      "source": [
        "a.shape"
      ],
      "execution_count": 303,
      "outputs": [
        {
          "output_type": "execute_result",
          "data": {
            "text/plain": [
              "(99,)"
            ]
          },
          "metadata": {
            "tags": []
          },
          "execution_count": 303
        }
      ]
    },
    {
      "cell_type": "markdown",
      "metadata": {
        "id": "9RY0b_VJye_I"
      },
      "source": [
        "***Learning Axis***"
      ]
    },
    {
      "cell_type": "markdown",
      "metadata": {
        "id": "_ZNQCHOcypvm"
      },
      "source": [
        "For 2d array we need 2 axis"
      ]
    },
    {
      "cell_type": "markdown",
      "metadata": {
        "id": "lDNg5Y12yusT"
      },
      "source": [
        "*axis starts from 0 if  the array is 2d then axis0 means column and axis1 means now*"
      ]
    },
    {
      "cell_type": "code",
      "metadata": {
        "id": "rxVdEN2Jxjd5"
      },
      "source": [
        "x = [[1,2,3],[4,5,6],[7,1,0]]"
      ],
      "execution_count": 304,
      "outputs": []
    },
    {
      "cell_type": "code",
      "metadata": {
        "id": "FMeUTsX5xjZe"
      },
      "source": [
        "y = np.array(x)"
      ],
      "execution_count": 305,
      "outputs": []
    },
    {
      "cell_type": "code",
      "metadata": {
        "colab": {
          "base_uri": "https://localhost:8080/"
        },
        "id": "OpCLuqNaxjUg",
        "outputId": "89b4a550-7028-40b6-8871-eaeb05cfae04"
      },
      "source": [
        "y"
      ],
      "execution_count": 306,
      "outputs": [
        {
          "output_type": "execute_result",
          "data": {
            "text/plain": [
              "array([[1, 2, 3],\n",
              "       [4, 5, 6],\n",
              "       [7, 1, 0]])"
            ]
          },
          "metadata": {
            "tags": []
          },
          "execution_count": 306
        }
      ]
    },
    {
      "cell_type": "code",
      "metadata": {
        "colab": {
          "base_uri": "https://localhost:8080/"
        },
        "id": "CuwBjwo-zobG",
        "outputId": "c68e26e3-3a4d-447b-d1b6-dc8f6111b5c8"
      },
      "source": [
        "y.sum(axis = 0)"
      ],
      "execution_count": 307,
      "outputs": [
        {
          "output_type": "execute_result",
          "data": {
            "text/plain": [
              "array([12,  8,  9])"
            ]
          },
          "metadata": {
            "tags": []
          },
          "execution_count": 307
        }
      ]
    },
    {
      "cell_type": "code",
      "metadata": {
        "colab": {
          "base_uri": "https://localhost:8080/"
        },
        "id": "JWEl3sm_zoWF",
        "outputId": "5059a935-b80f-4264-db8f-f33708e19d70"
      },
      "source": [
        "y.sum(axis = 1)"
      ],
      "execution_count": 308,
      "outputs": [
        {
          "output_type": "execute_result",
          "data": {
            "text/plain": [
              "array([ 6, 15,  8])"
            ]
          },
          "metadata": {
            "tags": []
          },
          "execution_count": 308
        }
      ]
    },
    {
      "cell_type": "code",
      "metadata": {
        "colab": {
          "base_uri": "https://localhost:8080/"
        },
        "id": "eQXpxOfuzoQl",
        "outputId": "2f1edb20-32de-4695-df1e-06317f15e27a"
      },
      "source": [
        "y.diagonal()"
      ],
      "execution_count": 309,
      "outputs": [
        {
          "output_type": "execute_result",
          "data": {
            "text/plain": [
              "array([1, 5, 0])"
            ]
          },
          "metadata": {
            "tags": []
          },
          "execution_count": 309
        }
      ]
    },
    {
      "cell_type": "code",
      "metadata": {
        "colab": {
          "base_uri": "https://localhost:8080/"
        },
        "id": "lznxlk77zoMK",
        "outputId": "74187bf3-1367-4473-b82b-403df67e89bf"
      },
      "source": [
        "y.T         #Taking transpose of the array"
      ],
      "execution_count": 316,
      "outputs": [
        {
          "output_type": "execute_result",
          "data": {
            "text/plain": [
              "array([[1, 2, 3],\n",
              "       [4, 5, 6],\n",
              "       [7, 1, 0]])"
            ]
          },
          "metadata": {
            "tags": []
          },
          "execution_count": 316
        }
      ]
    },
    {
      "cell_type": "code",
      "metadata": {
        "colab": {
          "base_uri": "https://localhost:8080/"
        },
        "id": "BkEVjY3qzoDq",
        "outputId": "6e67efa6-89e7-44e5-c50b-1268e40afb94"
      },
      "source": [
        "for z in y.flat:   #Making iterable \n",
        "  print(z)"
      ],
      "execution_count": 317,
      "outputs": [
        {
          "output_type": "stream",
          "text": [
            "1\n",
            "4\n",
            "7\n",
            "2\n",
            "5\n",
            "1\n",
            "3\n",
            "6\n",
            "0\n"
          ],
          "name": "stdout"
        }
      ]
    },
    {
      "cell_type": "code",
      "metadata": {
        "colab": {
          "base_uri": "https://localhost:8080/"
        },
        "id": "S_bIGT7jzn_O",
        "outputId": "712a2077-d40b-4b67-8bda-5b8d993d3130"
      },
      "source": [
        "y.nbytes"
      ],
      "execution_count": 318,
      "outputs": [
        {
          "output_type": "execute_result",
          "data": {
            "text/plain": [
              "72"
            ]
          },
          "metadata": {
            "tags": []
          },
          "execution_count": 318
        }
      ]
    },
    {
      "cell_type": "code",
      "metadata": {
        "id": "Z7JVUyaszn2u"
      },
      "source": [
        "one = np.array([1,3,4,4343,43])"
      ],
      "execution_count": 319,
      "outputs": []
    },
    {
      "cell_type": "code",
      "metadata": {
        "colab": {
          "base_uri": "https://localhost:8080/"
        },
        "id": "cyUz_Gl1znyE",
        "outputId": "5b56b4d9-b681-43e4-a677-cadf2d977237"
      },
      "source": [
        "one.argmax()   #printing the position of the largest no "
      ],
      "execution_count": 321,
      "outputs": [
        {
          "output_type": "execute_result",
          "data": {
            "text/plain": [
              "3"
            ]
          },
          "metadata": {
            "tags": []
          },
          "execution_count": 321
        }
      ]
    },
    {
      "cell_type": "code",
      "metadata": {
        "colab": {
          "base_uri": "https://localhost:8080/"
        },
        "id": "seKETg7Xznt9",
        "outputId": "a36741b2-28b5-4b1a-f446-fed44ffb1a95"
      },
      "source": [
        "one.argmin()"
      ],
      "execution_count": 322,
      "outputs": [
        {
          "output_type": "execute_result",
          "data": {
            "text/plain": [
              "0"
            ]
          },
          "metadata": {
            "tags": []
          },
          "execution_count": 322
        }
      ]
    },
    {
      "cell_type": "code",
      "metadata": {
        "colab": {
          "base_uri": "https://localhost:8080/"
        },
        "id": "V6sFCxh5znpd",
        "outputId": "e6bbe574-6a6f-461f-fe3e-232e714d5dbf"
      },
      "source": [
        "one.argsort()   #sorting the array in ascending order"
      ],
      "execution_count": 323,
      "outputs": [
        {
          "output_type": "execute_result",
          "data": {
            "text/plain": [
              "array([0, 1, 2, 4, 3])"
            ]
          },
          "metadata": {
            "tags": []
          },
          "execution_count": 323
        }
      ]
    },
    {
      "cell_type": "code",
      "metadata": {
        "colab": {
          "base_uri": "https://localhost:8080/"
        },
        "id": "iDAcYjGt18jW",
        "outputId": "4551f6d6-45dd-44e2-e54a-2418815428df"
      },
      "source": [
        "y"
      ],
      "execution_count": 326,
      "outputs": [
        {
          "output_type": "execute_result",
          "data": {
            "text/plain": [
              "array([[1, 4, 7],\n",
              "       [2, 5, 1],\n",
              "       [3, 6, 0]])"
            ]
          },
          "metadata": {
            "tags": []
          },
          "execution_count": 326
        }
      ]
    },
    {
      "cell_type": "code",
      "metadata": {
        "colab": {
          "base_uri": "https://localhost:8080/"
        },
        "id": "sRElsroVznkM",
        "outputId": "e09da471-082b-428e-b66f-b8595f472a2f"
      },
      "source": [
        "y.argmin()"
      ],
      "execution_count": 324,
      "outputs": [
        {
          "output_type": "execute_result",
          "data": {
            "text/plain": [
              "8"
            ]
          },
          "metadata": {
            "tags": []
          },
          "execution_count": 324
        }
      ]
    },
    {
      "cell_type": "code",
      "metadata": {
        "colab": {
          "base_uri": "https://localhost:8080/"
        },
        "id": "3V5zceGbzngD",
        "outputId": "fe4e6e49-777a-44a1-de86-41c0e3bb93a8"
      },
      "source": [
        "y.argmax()"
      ],
      "execution_count": 325,
      "outputs": [
        {
          "output_type": "execute_result",
          "data": {
            "text/plain": [
              "2"
            ]
          },
          "metadata": {
            "tags": []
          },
          "execution_count": 325
        }
      ]
    },
    {
      "cell_type": "code",
      "metadata": {
        "colab": {
          "base_uri": "https://localhost:8080/"
        },
        "id": "Haibkc2rznb2",
        "outputId": "8b52a879-d642-4e30-f0d7-f756f45392b9"
      },
      "source": [
        "y.argmax(axis = 0)"
      ],
      "execution_count": 327,
      "outputs": [
        {
          "output_type": "execute_result",
          "data": {
            "text/plain": [
              "array([2, 2, 0])"
            ]
          },
          "metadata": {
            "tags": []
          },
          "execution_count": 327
        }
      ]
    },
    {
      "cell_type": "code",
      "metadata": {
        "colab": {
          "base_uri": "https://localhost:8080/"
        },
        "id": "1z6L-WTJznWn",
        "outputId": "155de55a-9bc9-4202-a0c4-571a0d9ba4fb"
      },
      "source": [
        "y.argmin(axis = 1)"
      ],
      "execution_count": 328,
      "outputs": [
        {
          "output_type": "execute_result",
          "data": {
            "text/plain": [
              "array([0, 2, 2])"
            ]
          },
          "metadata": {
            "tags": []
          },
          "execution_count": 328
        }
      ]
    },
    {
      "cell_type": "code",
      "metadata": {
        "colab": {
          "base_uri": "https://localhost:8080/"
        },
        "id": "MCxnB13W2jtq",
        "outputId": "868fe558-15fb-4fb3-83de-eca0872f0f12"
      },
      "source": [
        "y"
      ],
      "execution_count": 331,
      "outputs": [
        {
          "output_type": "execute_result",
          "data": {
            "text/plain": [
              "array([[1, 4, 7],\n",
              "       [2, 5, 1],\n",
              "       [3, 6, 0]])"
            ]
          },
          "metadata": {
            "tags": []
          },
          "execution_count": 331
        }
      ]
    },
    {
      "cell_type": "code",
      "metadata": {
        "colab": {
          "base_uri": "https://localhost:8080/"
        },
        "id": "zlgEt4Mn2VN-",
        "outputId": "a1f2e434-5cad-421b-b6ca-578878deab02"
      },
      "source": [
        "y.argsort() "
      ],
      "execution_count": 334,
      "outputs": [
        {
          "output_type": "execute_result",
          "data": {
            "text/plain": [
              "array([[0, 1, 2],\n",
              "       [2, 0, 1],\n",
              "       [2, 0, 1]])"
            ]
          },
          "metadata": {
            "tags": []
          },
          "execution_count": 334
        }
      ]
    },
    {
      "cell_type": "code",
      "metadata": {
        "colab": {
          "base_uri": "https://localhost:8080/"
        },
        "id": "9M4A--cz2VCv",
        "outputId": "0583959d-155e-4f2c-c38c-8aa356872bcd"
      },
      "source": [
        "y.dtype"
      ],
      "execution_count": 330,
      "outputs": [
        {
          "output_type": "execute_result",
          "data": {
            "text/plain": [
              "dtype('int64')"
            ]
          },
          "metadata": {
            "tags": []
          },
          "execution_count": 330
        }
      ]
    },
    {
      "cell_type": "markdown",
      "metadata": {
        "id": "cdN3Xj593Fc4"
      },
      "source": [
        "***Mathematical operation***"
      ]
    },
    {
      "cell_type": "code",
      "metadata": {
        "colab": {
          "base_uri": "https://localhost:8080/"
        },
        "id": "h4Rfq4pn2U-V",
        "outputId": "8b55b1d7-6220-4aad-8eef-d5683376fab3"
      },
      "source": [
        "y*y\n"
      ],
      "execution_count": 335,
      "outputs": [
        {
          "output_type": "execute_result",
          "data": {
            "text/plain": [
              "array([[ 1, 16, 49],\n",
              "       [ 4, 25,  1],\n",
              "       [ 9, 36,  0]])"
            ]
          },
          "metadata": {
            "tags": []
          },
          "execution_count": 335
        }
      ]
    },
    {
      "cell_type": "code",
      "metadata": {
        "colab": {
          "base_uri": "https://localhost:8080/"
        },
        "id": "fe4ORZB02U5k",
        "outputId": "1f789614-e775-4dc7-ec65-977836e7d604"
      },
      "source": [
        "(y*2*y+2)/3"
      ],
      "execution_count": 338,
      "outputs": [
        {
          "output_type": "execute_result",
          "data": {
            "text/plain": [
              "array([[ 1.33333333, 11.33333333, 33.33333333],\n",
              "       [ 3.33333333, 17.33333333,  1.33333333],\n",
              "       [ 6.66666667, 24.66666667,  0.66666667]])"
            ]
          },
          "metadata": {
            "tags": []
          },
          "execution_count": 338
        }
      ]
    },
    {
      "cell_type": "code",
      "metadata": {
        "colab": {
          "base_uri": "https://localhost:8080/"
        },
        "id": "w0uFB7Ja2U1K",
        "outputId": "a4c93eb6-d44c-43c9-e169-b108f9d4e381"
      },
      "source": [
        "np.sqrt(y)"
      ],
      "execution_count": 339,
      "outputs": [
        {
          "output_type": "execute_result",
          "data": {
            "text/plain": [
              "array([[1.        , 2.        , 2.64575131],\n",
              "       [1.41421356, 2.23606798, 1.        ],\n",
              "       [1.73205081, 2.44948974, 0.        ]])"
            ]
          },
          "metadata": {
            "tags": []
          },
          "execution_count": 339
        }
      ]
    },
    {
      "cell_type": "code",
      "metadata": {
        "colab": {
          "base_uri": "https://localhost:8080/"
        },
        "id": "2Tbip3qU2Uv0",
        "outputId": "18bff3e9-77fd-4ffb-b388-684c39b9d533"
      },
      "source": [
        "np.where(y<5)"
      ],
      "execution_count": 344,
      "outputs": [
        {
          "output_type": "execute_result",
          "data": {
            "text/plain": [
              "(array([0, 0, 1, 1, 2, 2]), array([0, 1, 0, 2, 0, 2]))"
            ]
          },
          "metadata": {
            "tags": []
          },
          "execution_count": 344
        }
      ]
    },
    {
      "cell_type": "code",
      "metadata": {
        "id": "-WhUabPb2Ul9"
      },
      "source": [
        ""
      ],
      "execution_count": null,
      "outputs": []
    },
    {
      "cell_type": "code",
      "metadata": {
        "id": "6-G7FzB92UhE"
      },
      "source": [
        ""
      ],
      "execution_count": null,
      "outputs": []
    },
    {
      "cell_type": "code",
      "metadata": {
        "id": "4ThjVZET2Ubq"
      },
      "source": [
        ""
      ],
      "execution_count": null,
      "outputs": []
    },
    {
      "cell_type": "code",
      "metadata": {
        "id": "8qXNMqKq2UVr"
      },
      "source": [
        ""
      ],
      "execution_count": null,
      "outputs": []
    },
    {
      "cell_type": "code",
      "metadata": {
        "id": "nAf4mTiY2T-_"
      },
      "source": [
        ""
      ],
      "execution_count": null,
      "outputs": []
    }
  ]
}